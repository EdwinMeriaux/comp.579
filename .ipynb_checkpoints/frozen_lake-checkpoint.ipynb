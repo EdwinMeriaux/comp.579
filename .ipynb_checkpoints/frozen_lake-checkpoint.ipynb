{
 "cells": [
  {
   "cell_type": "markdown",
   "id": "5395aaf6",
   "metadata": {},
   "source": [
    "# Imports"
   ]
  },
  {
   "cell_type": "code",
   "execution_count": 20,
   "id": "2126b274",
   "metadata": {},
   "outputs": [],
   "source": [
    "#imports\n",
    "\n",
    "import gym\n",
    "import time\n",
    "import numpy as np\n",
    "import random as rand"
   ]
  },
  {
   "cell_type": "markdown",
   "id": "065f67f9",
   "metadata": {},
   "source": [
    "# Basic test"
   ]
  },
  {
   "cell_type": "code",
   "execution_count": 108,
   "id": "bff4c4e1",
   "metadata": {},
   "outputs": [
    {
     "name": "stdout",
     "output_type": "stream",
     "text": [
      "Initial state of the system\n",
      "Iteration: 1 and action 0\n",
      "Iteration: 2 and action 0\n",
      "Iteration: 3 and action 3\n"
     ]
    },
    {
     "ename": "KeyboardInterrupt",
     "evalue": "",
     "output_type": "error",
     "traceback": [
      "\u001b[1;31m---------------------------------------------------------------------------\u001b[0m",
      "\u001b[1;31mKeyboardInterrupt\u001b[0m                         Traceback (most recent call last)",
      "\u001b[1;32m~\\AppData\\Local\\Temp\\ipykernel_20232\\3503324804.py\u001b[0m in \u001b[0;36m<module>\u001b[1;34m\u001b[0m\n\u001b[0;32m     14\u001b[0m     \u001b[0menv\u001b[0m\u001b[1;33m.\u001b[0m\u001b[0mrender\u001b[0m\u001b[1;33m(\u001b[0m\u001b[1;33m)\u001b[0m\u001b[1;33m\u001b[0m\u001b[1;33m\u001b[0m\u001b[0m\n\u001b[0;32m     15\u001b[0m     \u001b[0mprint\u001b[0m\u001b[1;33m(\u001b[0m\u001b[1;34m'Iteration: {} and action {}'\u001b[0m\u001b[1;33m.\u001b[0m\u001b[0mformat\u001b[0m\u001b[1;33m(\u001b[0m\u001b[0mi\u001b[0m\u001b[1;33m+\u001b[0m\u001b[1;36m1\u001b[0m\u001b[1;33m,\u001b[0m\u001b[0mrandomAction\u001b[0m\u001b[1;33m)\u001b[0m\u001b[1;33m)\u001b[0m\u001b[1;33m\u001b[0m\u001b[1;33m\u001b[0m\u001b[0m\n\u001b[1;32m---> 16\u001b[1;33m     \u001b[0mtime\u001b[0m\u001b[1;33m.\u001b[0m\u001b[0msleep\u001b[0m\u001b[1;33m(\u001b[0m\u001b[1;36m2\u001b[0m\u001b[1;33m)\u001b[0m\u001b[1;33m\u001b[0m\u001b[1;33m\u001b[0m\u001b[0m\n\u001b[0m\u001b[0;32m     17\u001b[0m     \u001b[1;32mif\u001b[0m \u001b[0mreturnValue\u001b[0m\u001b[1;33m[\u001b[0m\u001b[1;36m2\u001b[0m\u001b[1;33m]\u001b[0m\u001b[1;33m:\u001b[0m\u001b[1;33m\u001b[0m\u001b[1;33m\u001b[0m\u001b[0m\n\u001b[0;32m     18\u001b[0m         \u001b[1;32mbreak\u001b[0m\u001b[1;33m\u001b[0m\u001b[1;33m\u001b[0m\u001b[0m\n",
      "\u001b[1;31mKeyboardInterrupt\u001b[0m: "
     ]
    }
   ],
   "source": [
    "#basic test\n",
    "\n",
    "\n",
    "env=gym.make(\"FrozenLake-v1\")#,render_mode='human')\n",
    "env.reset()\n",
    "env.render()\n",
    "print('Initial state of the system')\n",
    " \n",
    "numberOfIterations=30\n",
    " \n",
    "for i in range(numberOfIterations):\n",
    "    randomAction= env.action_space.sample()\n",
    "    returnValue=env.step(randomAction)\n",
    "    env.render()\n",
    "    print('Iteration: {} and action {}'.format(i+1,randomAction))\n",
    "    time.sleep(2)\n",
    "    if returnValue[2]:\n",
    "        break\n",
    " \n",
    "env.close()   "
   ]
  },
  {
   "cell_type": "markdown",
   "id": "9d20f1ea",
   "metadata": {},
   "source": [
    "# Functions"
   ]
  },
  {
   "cell_type": "code",
   "execution_count": null,
   "id": "7e9892cd",
   "metadata": {},
   "outputs": [],
   "source": [
    "def grid_pos(val,size):\n",
    "    x = int(val/size)\n",
    "    y = val % size\n",
    "    return[x,y]"
   ]
  },
  {
   "cell_type": "code",
   "execution_count": 45,
   "id": "2f2a5ce3",
   "metadata": {},
   "outputs": [],
   "source": [
    "#returns max value of list\n",
    "#if multiple are equal then randomization occurs between those possibilities\n",
    "def max_return(possiblities):\n",
    "    top = [0]\n",
    "    current_return = 0\n",
    "\n",
    "    pos = 0\n",
    "    for i in possiblities:\n",
    "        if i > current_return:\n",
    "            top = [pos]\n",
    "            current_return = i\n",
    "        elif i == current_return:\n",
    "            top.append(pos)\n",
    "        \n",
    "        pos += 1\n",
    "    \n",
    "    if len(top) > 0:\n",
    "        random_val = np.random.randint(0,len(top),1)\n",
    "        return(top[random_val[0]])\n",
    "    else:\n",
    "        return(top[0])"
   ]
  },
  {
   "cell_type": "code",
   "execution_count": null,
   "id": "19ff391c",
   "metadata": {},
   "outputs": [],
   "source": [
    "#we start with greedy then we will go to sarsa\n",
    "def E_greedy_action(epsilon, world, current):\n",
    "    random_action = np.random.randint(0,100,2)\n",
    "    if random_action[0] < epsilon:\n",
    "        action = np.random.randint(0,100,1)\n",
    "    else:\n",
    "        action = 0 #max return\n",
    "    \n",
    "    return action"
   ]
  },
  {
   "cell_type": "markdown",
   "id": "15f4502a",
   "metadata": {},
   "source": [
    "# SARSA"
   ]
  },
  {
   "cell_type": "code",
   "execution_count": 128,
   "id": "4ea6656b",
   "metadata": {},
   "outputs": [],
   "source": [
    "class SARSA:\n",
    "    def __init__(self,size):\n",
    "        self.runs = 10\n",
    "        self.segments = 500\n",
    "        self.train_episodes = 10\n",
    "        self.test_episodes = 1\n",
    "        self.world_size = size\n",
    "        self.world = np.zeros((self.world_size,self.world_size,4))\n",
    "        self.current = 0\n",
    "        self.epsilon = 100\n",
    "        self.action = 0\n",
    "        \n",
    "        #environment initialization\n",
    "        self.env=gym.make(\"FrozenLake-v1\")#,render_mode='human')\n",
    "        self.env.reset()\n",
    "        self.env.render()\n",
    "\n",
    "    def grid_pos(self,val):\n",
    "        x = int(val/self.world_size)\n",
    "        y = val % self.world_size\n",
    "        return[x,y]\n",
    "    \n",
    "    def max_return(self,possiblities):\n",
    "        top = [0]\n",
    "        print(possiblities)\n",
    "        current_return = 0\n",
    "        pos = 0\n",
    "        for i in possiblities:\n",
    "            if i > current_return:\n",
    "                top = [pos]\n",
    "                current_return = i\n",
    "            elif i == current_return:\n",
    "                top.append(pos)\n",
    "            pos += 1\n",
    "        print(top)\n",
    "        if len(top) > 0:\n",
    "            random_val = np.random.randint(0,len(top),1)\n",
    "            return(top[random_val[0]])\n",
    "        else:\n",
    "            return(top[0])\n",
    "    \n",
    "    def E_greedy_action(self):\n",
    "        random_action = np.random.randint(0,100,2)\n",
    "        if False:# random_action[0] < self.epsilon:\n",
    "            action = np.random.randint(0,4,1)[0]\n",
    "        else:\n",
    "            pos = self.grid_pos(self.current)\n",
    "            action = max_return(self.world[pos[0]][pos[1]])\n",
    "        print(\"action: \",action)\n",
    "        return action\n",
    "    \n",
    "    def loop(self):\n",
    "        \n",
    "        print('Initial state of the system')\n",
    "        done = False\n",
    "        self.env.reset()\n",
    "        while not done:\n",
    "            self.action = self.E_greedy_action()\n",
    "            print(self.action)\n",
    "            returnValue=env.step(self.action)\n",
    "            self.env.render()\n",
    "            print(returnValue)\n",
    "            print(returnValue[2])\n",
    "            done = True\n",
    "        print(done)\n",
    "        #time.sleep(10)\n",
    "        self.env.close()\n",
    "        "
   ]
  },
  {
   "cell_type": "code",
   "execution_count": 129,
   "id": "4e8b5609",
   "metadata": {},
   "outputs": [
    {
     "name": "stdout",
     "output_type": "stream",
     "text": [
      "Initial state of the system\n",
      "action:  3\n",
      "3\n",
      "(12, 0, True, {'prob': 1.0})\n",
      "True\n",
      "True\n"
     ]
    }
   ],
   "source": [
    "sarsa = SARSA(4)\n",
    "sarsa.loop()"
   ]
  },
  {
   "cell_type": "code",
   "execution_count": 15,
   "id": "beedf6cf",
   "metadata": {},
   "outputs": [],
   "source": [
    "runs = 10\n",
    "segments = 500\n",
    "train_episodes = 10\n",
    "test_episodes = 1\n",
    "world_size = 4"
   ]
  },
  {
   "cell_type": "code",
   "execution_count": 56,
   "id": "06636c36",
   "metadata": {},
   "outputs": [
    {
     "name": "stdout",
     "output_type": "stream",
     "text": [
      "[0. 0. 0. 0.]\n"
     ]
    }
   ],
   "source": [
    "world = np.zeros((4,4,4))\n",
    "print(world[0][0])\n"
   ]
  },
  {
   "cell_type": "code",
   "execution_count": null,
   "id": "8410ac59",
   "metadata": {},
   "outputs": [],
   "source": []
  },
  {
   "cell_type": "code",
   "execution_count": null,
   "id": "4c15e2a3",
   "metadata": {},
   "outputs": [],
   "source": []
  },
  {
   "cell_type": "code",
   "execution_count": null,
   "id": "5f45166e",
   "metadata": {},
   "outputs": [],
   "source": []
  }
 ],
 "metadata": {
  "kernelspec": {
   "display_name": "Python 3 (ipykernel)",
   "language": "python",
   "name": "python3"
  },
  "language_info": {
   "codemirror_mode": {
    "name": "ipython",
    "version": 3
   },
   "file_extension": ".py",
   "mimetype": "text/x-python",
   "name": "python",
   "nbconvert_exporter": "python",
   "pygments_lexer": "ipython3",
   "version": "3.9.7"
  }
 },
 "nbformat": 4,
 "nbformat_minor": 5
}
